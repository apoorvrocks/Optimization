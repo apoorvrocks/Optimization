{
 "cells": [
  {
   "cell_type": "code",
   "execution_count": 16,
   "id": "5d6d3ba2-6b6e-4be8-bed3-14cb2f6e85ba",
   "metadata": {},
   "outputs": [
    {
     "name": "stdout",
     "output_type": "stream",
     "text": [
      "[-0.14232705  0.42422967  1.97565353 -2.13226864  0.07653828  4.02257995] [  4.09131821 -12.46541727  -6.30889128  -9.09967932  -7.23278395\n",
      "  -6.71416851 -23.43092598  -0.28374439  -5.55224333   4.47041153\n",
      "   2.6215289   -2.38915164  30.46128396   3.90734163  -6.55481634\n",
      "  18.56593562  -5.87569754  -3.82211607   5.09661783 -24.21498761\n",
      "  -7.2391953  -15.36720656 -25.25647088  -7.43616997   3.01636741\n",
      " -10.41413857  20.719898    -7.89509418  31.66684153  -4.79785823\n",
      "   2.33026777   7.10257075 -20.47240027  18.38039965   1.32829284\n",
      "  19.43623954   2.09465509  -4.64530657  12.23122846  -2.97225815\n",
      "  -5.33069247 -20.86840351   0.87798634   2.4131274   18.63274649\n",
      " -19.7588309   -4.10614143  -5.97390289 -26.03700093  -1.08404935\n",
      "  29.81677165   6.40383166  -6.18002595  12.9333177   -3.28594441\n",
      "   8.69537027   6.76948738   0.55668804  -5.65752918  -4.71084304\n",
      "  30.03487022  14.28156694 -10.93667538 -27.40497428 -15.42103434\n",
      " -10.04054871  18.31651763   5.33484541  -6.25945303   3.14570681\n",
      " -31.4205078   24.98581066   5.41680743  21.87402916 -15.00947994\n",
      "  12.55839535  -2.91605367  24.29873063  11.08253246 -16.5832198\n",
      "  21.17536136  -6.33572926 -14.28489703  -0.516125    -5.39770258\n",
      "  -2.0096816   17.30024685   6.66559015  -2.92322538  -3.29902792\n",
      "   8.73766053  -4.18346108  -1.6235988   -8.36677854  -8.66406616\n",
      " -12.21015149  -6.64720643   4.67771641 -22.43662901  17.41739955]\n",
      "26.13865558094876\n"
     ]
    }
   ],
   "source": [
    "import subprocess\n",
    "import numpy as np\n",
    "#Data Preprocessing\n",
    "data = subprocess.run([\"./getDataPoints.exe\", \"19598\"],stdout=subprocess.PIPE).stdout.decode(\"utf-8\")\n",
    "data = data.replace('\\r\\n',',')\n",
    "data = data.replace('[','')\n",
    "data = data.replace(']','')\n",
    "data = np.fromstring(data, dtype = np.float64,sep =',')\n",
    "x = data[np.mod(np.arange(data.size), 6) != 0]\n",
    "y = data[::6]\n",
    "x = np.reshape(x,(-1,5))\n",
    "x = np.hstack((np.ones((100,1)),x))\n",
    "w =  np.dot(np.linalg.inv(np.dot(x.T, x)), np.dot(x.T, y))\n",
    "predicted_output = np.dot(x,w)\n",
    "print(w,predicted_output)\n",
    "print(np.sqrt(np.sum(np.square(predicted_output-y))))"
   ]
  },
  {
   "cell_type": "code",
   "execution_count": null,
   "id": "e075aede-8029-42b3-86a3-fc767816cd4d",
   "metadata": {},
   "outputs": [],
   "source": [
    "0.42577081  1.97492931 -2.13060508  0.07635305  4.0243983 \n",
    "26.177207049646608"
   ]
  },
  {
   "cell_type": "code",
   "execution_count": null,
   "id": "703de64d-5c05-41d7-b103-a717be779059",
   "metadata": {},
   "outputs": [],
   "source": [
    "\n",
    "x_tr = x.transpose()\n",
    "left_inverse = np.linalg.inv(np.dot(x_tr,x))\n",
    "w = np.dot(left_inverse,np.dot(x_tr,y))\n",
    "print(w)\n",
    "predicted_output = np.dot(x,w)\n",
    "print(predicted_output)\n",
    "print(y)\n",
    "print(np.sqrt(np.sum((predicted_output-y)**2)))"
   ]
  },
  {
   "cell_type": "code",
   "execution_count": null,
   "id": "8416957e-b2f1-49ac-bdb2-dc47b384d3e8",
   "metadata": {},
   "outputs": [],
   "source": []
  },
  {
   "cell_type": "code",
   "execution_count": null,
   "id": "867043a6-2704-4fe2-a670-51e1e7b830a7",
   "metadata": {},
   "outputs": [],
   "source": []
  }
 ],
 "metadata": {
  "kernelspec": {
   "display_name": "Python 3 (ipykernel)",
   "language": "python",
   "name": "python3"
  },
  "language_info": {
   "codemirror_mode": {
    "name": "ipython",
    "version": 3
   },
   "file_extension": ".py",
   "mimetype": "text/x-python",
   "name": "python",
   "nbconvert_exporter": "python",
   "pygments_lexer": "ipython3",
   "version": "3.9.0"
  }
 },
 "nbformat": 4,
 "nbformat_minor": 5
}
