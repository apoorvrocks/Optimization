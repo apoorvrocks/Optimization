{
 "cells": [
  {
   "cell_type": "code",
   "execution_count": 6,
   "id": "03cfcce9-d0b6-4360-b100-f3ca26b8cd2f",
   "metadata": {},
   "outputs": [
    {
     "name": "stdout",
     "output_type": "stream",
     "text": [
      "x = 0.1 , iters = 1 ,currpoint = 0.000990099009900991\n",
      "x = 0.6 , iters = 2 ,currpoint = 0.00390773745118556\n",
      "x = -0.5 , iters = 2 ,currpoint = -0.000990099009900991\n",
      "x = 1.2 , iters = 3 ,currpoint = 0.0125350576067959\n"
     ]
    }
   ],
   "source": [
    "import numpy as np\n",
    "import math\n",
    "from sympy import *\n",
    "\n",
    "# Below function is used to get function value,gradient and hessian at a given point\n",
    "# Input: point at which function value needs to be obtained\n",
    "# Output: returns function value, gradient and Hessian \n",
    "def readPoint(x0):\n",
    "    x = Symbol('x')\n",
    "    y = 0.5*log(x**2+1)\n",
    "    grad = y.diff(x)\n",
    "    Hessian = grad.diff(x)\n",
    "    return y.evalf(subs={x:x0}),grad.evalf(subs={x:x0}),Hessian.evalf(subs={x:x0})\n",
    "\n",
    "# Below function performs back tracking line search to get a good step size\n",
    "# Input: point at which the search has to be performed\n",
    "# Output: returns point after Back tracking line search , step size, function value \n",
    "\n",
    "def backTrackingLineSearch(x0):\n",
    "    i = 0\n",
    "    func_val_x0,gradient,Hessian = readPoint(x0)\n",
    "    descent_dir   = -1*gradient\n",
    "    currPoint = x0\n",
    "    curr_func_val = np.random.random(100)\n",
    "    t = 1\n",
    "    while i<30: ## max iterations = 30\n",
    "        currPoint = x0 + t*descent_dir\n",
    "        curr_func_val = readPoint(currPoint)[0]\n",
    "        if curr_func_val <= func_val_x0 + 0.5*t*descent_dir*gradient: ## alpha = 0.5\n",
    "            break\n",
    "        elif abs(t*descent_dir) < 0.01: ## epsilon =0.01\n",
    "            break \n",
    "        else:\n",
    "            t = 0.1*t  ## beta = 0.1\n",
    "            i = i+1\n",
    "    \n",
    "    return currPoint,t,curr_func_val\n",
    "\n",
    "\n",
    "# Below function performs the actual gradient descent\n",
    "# Input:  initial point \n",
    "# Output: Number of iterations,curr point when gradient descent converges\n",
    "def gradientDescent(x0):\n",
    "    iters = 0\n",
    "    currPoint = x0\n",
    "    func_val_x0,gradient,Hessian = readPoint(x0)\n",
    "    while abs(gradient) > 0.05:\n",
    "       \n",
    "        step_size = backTrackingLineSearch(currPoint)[1]\n",
    "        currPoint = currPoint - step_size*gradient\n",
    "        gradient  = readPoint(currPoint)[1]\n",
    "        iters += 1\n",
    "        \n",
    "    return iters,currPoint\n",
    "\n",
    "if __name__ == '__main__':\n",
    "    iters,currPoint = gradientDescent(0.1)\n",
    "    print('x = 0.1 , iters = %d ,currpoint = %s'%(iters, currPoint))\n",
    "    iters,currPoint = gradientDescent(0.6)\n",
    "    print('x = 0.6 , iters = %d ,currpoint = %s'%(iters, currPoint))\n",
    "    iters,currPoint = gradientDescent(-0.5)\n",
    "    print('x = -0.5 , iters = %d ,currpoint = %s'%(iters, currPoint))\n",
    "    iters,currPoint = gradientDescent(1.2)\n",
    "    print('x = 1.2 , iters = %d ,currpoint = %s'%(iters, currPoint))"
   ]
  },
  {
   "cell_type": "code",
   "execution_count": null,
   "id": "4d380619-614e-402b-92e8-56068468e072",
   "metadata": {},
   "outputs": [],
   "source": []
  }
 ],
 "metadata": {
  "kernelspec": {
   "display_name": "Python 3 (ipykernel)",
   "language": "python",
   "name": "python3"
  },
  "language_info": {
   "codemirror_mode": {
    "name": "ipython",
    "version": 3
   },
   "file_extension": ".py",
   "mimetype": "text/x-python",
   "name": "python",
   "nbconvert_exporter": "python",
   "pygments_lexer": "ipython3",
   "version": "3.9.0"
  }
 },
 "nbformat": 4,
 "nbformat_minor": 5
}
