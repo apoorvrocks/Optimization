{
 "cells": [
  {
   "cell_type": "code",
   "execution_count": 16,
   "id": "0510fc7e-c715-4bc6-8d6a-352f999f9871",
   "metadata": {},
   "outputs": [
    {
     "name": "stdout",
     "output_type": "stream",
     "text": [
      "Lipschitz constant for Hessian = 1.4569736387347465\n",
      "a = 0.457569 for newton region\n",
      "x = 0.1 , iters = 1 ,currpoint = -0.00202020202020202\n",
      "x = 0.6 , iters = 4 ,currpoint = 21.0477220040625\n",
      "x = -0.5 , iters = 3 ,currpoint = 0.00116550116550117\n",
      "x = 1.2 , iters = 3 ,currpoint = 32.0615760221634\n"
     ]
    }
   ],
   "source": [
    "import numpy as np\n",
    "import math\n",
    "from sympy import *\n",
    "from scipy.optimize import minimize,dual_annealing\n",
    "\n",
    "\n",
    "# takes x as input\n",
    "# returns function value, first derivative,second derivative \n",
    "def readPoint(x0):\n",
    "    x = Symbol('x')\n",
    "    y = 0.5*log(x**2+1)\n",
    "    grad = y.diff(x)\n",
    "    Hessian = grad.diff(x)\n",
    "    return y.evalf(subs={x:x0}),grad.evalf(subs={x:x0}),Hessian.evalf(subs={x:x0})\n",
    "\n",
    "# implementation of Newton Method\n",
    "def NewtonMethod(x0):\n",
    "    iters = 0\n",
    "    currPoint = x0\n",
    "    func_val_x0,gradient,Hessian = readPoint(x0)\n",
    "    step_size = 1\n",
    "    while abs(gradient) > 0.05:\n",
    "        descent_dir = -gradient/Hessian ## 1 dimensional case \n",
    "        currPoint = currPoint + step_size*descent_dir\n",
    "        func_val,gradient,Hessian = readPoint(currPoint)\n",
    "        iters += 1\n",
    "    return iters, currPoint\n",
    "\n",
    "## return the absolute value of third derivative\n",
    "\n",
    "def abs_third_derivative(x):\n",
    "    return abs(8.0*x**3/(x**2 + 1)**3 - 6.0*x/(x**2 + 1)**2)\n",
    "\n",
    "\n",
    "\n",
    "\n",
    "if __name__ == '__main__':\n",
    "    # part 5b to find maximum value of third derivative in order to find Lipschitz constant of Hessian\n",
    "    M = 0\n",
    "    for i in np.arange(0,1,0.01):\n",
    "        M = max(M,abs_third_derivative(i))   \n",
    "    print('Lipschitz constant for Hessian = %s'%(M))\n",
    "    print('a = %f for newton region' %(2/(3*M))) ## newton region = 2/3*(a/M) where a = 1 as shown in pdf \n",
    "    \n",
    "    # part 5c\n",
    "    iters, currPoint = NewtonMethod(0.1)\n",
    "    print('x = 0.1 , iters = %d ,currpoint = %s'%(iters, currPoint))\n",
    "    iters, currPoint = NewtonMethod(0.6)\n",
    "    print('x = 0.6 , iters = %d ,currpoint = %s'%(iters, currPoint))\n",
    "    iters, currPoint = NewtonMethod(-0.5)\n",
    "    print('x = -0.5 , iters = %d ,currpoint = %s'%(iters, currPoint))\n",
    "    iters, currPoint = NewtonMethod(1.2)\n",
    "    print('x = 1.2 , iters = %d ,currpoint = %s'%(iters, currPoint))"
   ]
  },
  {
   "cell_type": "code",
   "execution_count": 3,
   "id": "5157a684-90ca-41ec-b5a5-44d1216097bc",
   "metadata": {},
   "outputs": [
    {
     "data": {
      "text/latex": [
       "$\\displaystyle 0.111571775657105$"
      ],
      "text/plain": [
       "0.111571775657105"
      ]
     },
     "execution_count": 3,
     "metadata": {},
     "output_type": "execute_result"
    }
   ],
   "source": []
  },
  {
   "cell_type": "code",
   "execution_count": null,
   "id": "71d10748-41f6-4e5d-94ce-50376c1246a1",
   "metadata": {},
   "outputs": [],
   "source": []
  }
 ],
 "metadata": {
  "kernelspec": {
   "display_name": "Python 3 (ipykernel)",
   "language": "python",
   "name": "python3"
  },
  "language_info": {
   "codemirror_mode": {
    "name": "ipython",
    "version": 3
   },
   "file_extension": ".py",
   "mimetype": "text/x-python",
   "name": "python",
   "nbconvert_exporter": "python",
   "pygments_lexer": "ipython3",
   "version": "3.9.0"
  }
 },
 "nbformat": 4,
 "nbformat_minor": 5
}
