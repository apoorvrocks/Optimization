{
 "cells": [
  {
   "cell_type": "code",
   "execution_count": 17,
   "id": "f58fa604-6242-4960-bb2d-045caca70305",
   "metadata": {},
   "outputs": [
    {
     "name": "stdout",
     "output_type": "stream",
     "text": [
      "       0       1       2       3       4       5       6       7       8   \\\n",
      "0  1.5708  1.5708  1.5707  1.5704  1.5698  1.5689  1.5676  1.5658  1.5635   \n",
      "\n",
      "       9   ...        90        91       92        93        94        95  \\\n",
      "0  1.5605  ...  0.010251  0.007316  0.00498  0.003187  0.001873  0.000974   \n",
      "\n",
      "         96        97        98  99  \n",
      "0  0.000417  0.000126  0.000016   0  \n",
      "\n",
      "[1 rows x 100 columns]\n",
      "0\n"
     ]
    }
   ],
   "source": [
    "import numpy as np\n",
    "import pandas as pd\n",
    "import matplotlib.pyplot as plt\n",
    "import math\n",
    "from scipy.optimize import linprog\n",
    "\n",
    "np.set_printoptions(precision = 3)\n",
    "angles = pd.read_csv('a4q2_headingangles.csv',header = None)\n",
    "T = 100\n",
    "vmin = 0.01\n",
    "xf = 3\n",
    "yf = 4\n",
    "x0 = 0\n",
    "y0 = 0"
   ]
  },
  {
   "cell_type": "code",
   "execution_count": 19,
   "id": "73309fbe-5231-413a-ae46-565594e78eb8",
   "metadata": {},
   "outputs": [
    {
     "data": {
      "image/png": "[encoded data removed]",
      "text/plain": [
       "<Figure size 432x288 with 1 Axes>"
      ]
     },
     "metadata": {
      "needs_background": "light"
     },
     "output_type": "display_data"
    },
    {
     "name": "stdout",
     "output_type": "stream",
     "text": [
      "[2.000e+00 2.000e+00 6.399e-08 1.288e-08 2.563e-09 1.053e-09 6.210e-10\n",
      " 4.231e-10 3.161e-10 2.485e-10 2.060e-10 1.750e-10 1.518e-10 1.333e-10\n",
      " 1.180e-10 1.048e-10 9.330e-11 8.308e-11 7.404e-11 6.587e-11 5.860e-11\n",
      " 5.210e-11 4.641e-11 4.140e-11 3.704e-11 3.327e-11 3.004e-11 2.728e-11\n",
      " 2.494e-11 2.298e-11 2.135e-11 2.000e-11 1.889e-11 1.798e-11 1.725e-11\n",
      " 1.667e-11 1.622e-11 1.587e-11 1.561e-11 1.542e-11 1.530e-11 1.522e-11\n",
      " 1.518e-11 1.517e-11 1.518e-11 1.520e-11 1.523e-11 1.526e-11 1.529e-11\n",
      " 1.531e-11 1.533e-11 1.534e-11 1.535e-11 1.535e-11 1.536e-11 1.537e-11\n",
      " 1.539e-11 1.543e-11 1.549e-11 1.559e-11 1.573e-11 1.593e-11 1.619e-11\n",
      " 1.654e-11 1.697e-11 1.752e-11 1.819e-11 1.901e-11 2.000e-11 2.118e-11\n",
      " 2.259e-11 2.426e-11 2.622e-11 2.851e-11 3.118e-11 3.428e-11 3.789e-11\n",
      " 4.207e-11 4.694e-11 5.265e-11 5.943e-11 6.761e-11 7.769e-11 9.042e-11\n",
      " 1.070e-10 1.291e-10 1.593e-10 2.014e-10 2.603e-10 3.420e-10 4.516e-10\n",
      " 5.881e-10 7.331e-10 8.324e-10 7.761e-10 4.278e-10 2.875e-10 3.409e-08\n",
      " 1.162e-06 3.000e+00]\n"
     ]
    }
   ],
   "source": [
    "heading_angles = angles.to_numpy()\n",
    "heading_angles = heading_angles.reshape(1,100)\n",
    "heading_angles[0,T-1] = 0\n",
    "#print(heading_angles)\n",
    "A = np.vstack((np.cos(heading_angles),np.sin(heading_angles)))\n",
    "#A = np.round_(A,3)\n",
    "#print(A)\n",
    "\n",
    "c = -1*np.ones((1,T))\n",
    " \n",
    "b = np.array([xf-x0,yf-y0])\n",
    "b = b.reshape(2,1)\n",
    "res = linprog(c, A_eq=A, b_eq=b, bounds= (vmin,None))\n",
    "v = res.x\n",
    "x = np.zeros(T+1)\n",
    "y = np.zeros(T+1)\n",
    "x[0] = x0\n",
    "y[0] = y0\n",
    "\n",
    "fig = plt.figure()\n",
    "plt.xlabel('X axis', fontsize=18)\n",
    "plt.ylabel('Y axis', fontsize=16)\n",
    "plt.scatter(x0,y0,color = 'black',label = 'initial point')\n",
    "plt.scatter(xf,yf,color = 'brown',label = 'final point')\n",
    "\n",
    "for i in range(0,T):\n",
    "    x[i+1] = x[i] + v[i]*math.cos(heading_angles[0,i])\n",
    "    y[i+1] = y[i] + v[i]*math.sin(heading_angles[0,i])\n",
    "    #plt.scatter(x[i+1],y[i+1],color = 'black')\n",
    "plt.plot(x,y,color = 'r',label = 'vmin = 0.01')\n",
    "plt.legend()\n",
    "plt.show()\n",
    "\n",
    "print(res.x)"
   ]
  },
  {
   "cell_type": "code",
   "execution_count": null,
   "id": "febd16a4-f400-4b8d-9681-fa3bc1a58c04",
   "metadata": {},
   "outputs": [],
   "source": []
  },
  {
   "cell_type": "code",
   "execution_count": null,
   "id": "6460a296-b49b-44ac-bd38-733f2da38ef0",
   "metadata": {},
   "outputs": [],
   "source": []
  }
 ],
 "metadata": {
  "kernelspec": {
   "display_name": "Python 3 (ipykernel)",
   "language": "python",
   "name": "python3"
  },
  "language_info": {
   "codemirror_mode": {
    "name": "ipython",
    "version": 3
   },
   "file_extension": ".py",
   "mimetype": "text/x-python",
   "name": "python",
   "nbconvert_exporter": "python",
   "pygments_lexer": "ipython3",
   "version": "3.9.0"
  }
 },
 "nbformat": 4,
 "nbformat_minor": 5
}
