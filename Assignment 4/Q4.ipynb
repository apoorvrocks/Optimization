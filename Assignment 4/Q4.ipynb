{
 "cells": [
  {
   "cell_type": "code",
   "execution_count": 16,
   "id": "21d8f1ef-e4a7-49e2-aeb2-7164ff72057c",
   "metadata": {},
   "outputs": [],
   "source": [
    "import numpy as np\n",
    "import matplotlib.pyplot as plt\n",
    "np.set_printoptions(precision = 5)"
   ]
  },
  {
   "cell_type": "code",
   "execution_count": 17,
   "id": "144bda68-f873-427b-b06c-80ec199b7251",
   "metadata": {},
   "outputs": [],
   "source": [
    "def projection1(lamb):\n",
    "    for i in range(np.size(lamb)):\n",
    "        if lamb[i,0]< 0:\n",
    "            lamb[i,0] = 0\n",
    "    return lamb\n",
    "\n",
    "## part 5c,d\n",
    "def gradient_descent(y,A,b,stepsize):\n",
    "    [m,n] = np.shape(A)\n",
    "    lamb = np.zeros((m,1))\n",
    "    iters = 0\n",
    "    x = np.zeros((101,n))\n",
    "    x[0] = y.T\n",
    "    \n",
    "    while iters<100:\n",
    "        gradient = np.dot(AAT,lamb) - (np.dot(A,y)-b)\n",
    "        lamb = lamb - stepsize*gradient\n",
    "        lamb = projection1(lamb)\n",
    "        iters += 1\n",
    "        x[iters] = (y - np.dot(A.T,lamb)).T\n",
    "        \n",
    "    return x\n",
    "\n",
    "def projection2(z,a,b):\n",
    "    a = a.reshape(-1,1)\n",
    "    lamb = (np.dot(a.T,z)-b)/np.dot(a.T,a) ## projection onto a convex set a.T*x = b\n",
    "    return z - lamb*a\n",
    "\n",
    "def projected_gradient_descent(z,A,b):\n",
    "    x = z\n",
    "    iters = 0\n",
    "    cons = []\n",
    "    for i in range(np.shape(A)[0]):\n",
    "        if abs(np.dot(A[i,:],x)-b[i]) > 1e-7 :\n",
    "            cons.append(i)\n",
    "    print(cons)\n",
    "    while (len(cons)>0 and iters<1000):\n",
    "        y = projection2(x,A[0,:],b[0]) ## projection on first row of A\n",
    "        x = projection2(y,A[1,:],b[1]) ## projection on second row of A\n",
    "        cons = []\n",
    "        for i in range(np.shape(A)[0]):\n",
    "            if abs(np.dot(A[i,:],x)-b[i]) > 1e-7: ## !=0 to avoid for numerical issues\n",
    "                cons.append(i)\n",
    "        #print(cons)\n",
    "        iters += 1\n",
    "    print('Total iterations required = %d'%iters)\n",
    "    return x"
   ]
  },
  {
   "cell_type": "code",
   "execution_count": 18,
   "id": "f3506812-2744-43b8-8542-be315f058536",
   "metadata": {},
   "outputs": [
    {
     "name": "stdout",
     "output_type": "stream",
     "text": [
      "[3.  0.5 0.5]\n"
     ]
    }
   ],
   "source": [
    "## part 5c\n",
    "\n",
    "A = np.array([[1,1,1],[-1,0,0],[0,-1,1]])\n",
    "b = np.array([8,0,0])\n",
    "b = b.reshape(3,1)\n",
    "AAT = np.dot(A,A.T)\n",
    "eigs,v = np.linalg.eig(AAT)\n",
    "L = np.amax(eigs)\n",
    "stepsize = 1/L\n",
    "x = gradient_descent(np.array([3,-1,2]).reshape(3,1),A,b,stepsize)\n",
    "x_projected = x[-1,:]\n",
    "print(x_projected)\n"
   ]
  },
  {
   "cell_type": "code",
   "execution_count": 19,
   "id": "c79a2d01-dcfa-4ec5-9be6-f6dec616f94d",
   "metadata": {},
   "outputs": [
    {
     "name": "stdout",
     "output_type": "stream",
     "text": [
      "[1. 0.] [1.00000e+00 1.03473e-13]\n"
     ]
    },
    {
     "data": {
      "image/png": "[encoded data removed]",
      "text/plain": [
       "<Figure size 432x288 with 1 Axes>"
      ]
     },
     "metadata": {
      "needs_background": "light"
     },
     "output_type": "display_data"
    },
    {
     "data": {
      "image/png": "[encoded data removed]",
      "text/plain": [
       "<Figure size 432x288 with 1 Axes>"
      ]
     },
     "metadata": {
      "needs_background": "light"
     },
     "output_type": "display_data"
    }
   ],
   "source": [
    "## part 5d\n",
    "\n",
    "A = np.array([[1,1],[-1,0],[0,-1]])\n",
    "b = np.array([1,0,0]).reshape(3,1)\n",
    "AAT = np.dot(A,A.T)\n",
    "eigs,v = np.linalg.eig(AAT)\n",
    "L = np.amax(eigs)\n",
    "stepsize = 1/L\n",
    "x1 = gradient_descent(np.array([2,1]).reshape(2,1),A,b,stepsize) ## stepsize = 1/l\n",
    "x2 = gradient_descent(np.array([2,1]).reshape(2,1),A,b,2*stepsize) ## stepsize = 2/l\n",
    "x_projected1 = x1[-1,:]\n",
    "x_projected2 = x2[-1,:]\n",
    "print(x_projected1,x_projected2)\n",
    "\n",
    "\n",
    "colors = ['c','m','y']\n",
    "fig = plt.figure()\n",
    "plt.xlabel('X axis', fontsize=18)\n",
    "plt.ylabel('Y axis', fontsize=16)\n",
    "\n",
    "#plt.legend(loc='lower right', fontsize='small')\n",
    "\n",
    "plt.plot(x1[:,0],x1[:,1],color ='blue')\n",
    "#plt.legend(loc='lower right', fontsize='small')\n",
    "\n",
    "plt.show()\n",
    "#fig.savefig('partd1.jpg')\n",
    "plt.close()\n",
    "\n",
    "fig = plt.figure()\n",
    "plt.xlabel('X axis', fontsize=18)\n",
    "plt.ylabel('Y axis', fontsize=16)\n",
    "#plt.plot(x1[:,0],x1[:,1],color = 'blue')\n",
    "plt.plot(x2[:,0],x2[:,1],color = 'red')\n",
    "plt.show()\n",
    "plt.close()"
   ]
  },
  {
   "cell_type": "code",
   "execution_count": 20,
   "id": "419a30ac-eb82-4942-b99c-b78310fc8d1e",
   "metadata": {},
   "outputs": [
    {
     "name": "stdout",
     "output_type": "stream",
     "text": [
      "[[ 0.78571]\n",
      " [ 0.07143]\n",
      " [-1.14286]]\n",
      "[0, 1]\n",
      "Total iterations required = 53\n",
      "[[ 0.78571]\n",
      " [ 0.07143]\n",
      " [-1.14286]] [[ 1.]\n",
      " [-1.]]\n"
     ]
    }
   ],
   "source": [
    "## part d\n",
    "\n",
    "A = np.array([[1,3,0],[0,2,1]])\n",
    "b = np.array([1,-1]).reshape(2,1)\n",
    "AAT_inv = np.linalg.inv(np.dot(A,A.T))\n",
    "x = -np.dot(A.T,np.dot(AAT_inv,-b))\n",
    "print(x)\n",
    "\n",
    "x_projected = projected_gradient_descent(np.array([0,0,0]).reshape(3,1),A,b)\n",
    "print(x_projected,np.dot(A,x_projected))"
   ]
  },
  {
   "cell_type": "code",
   "execution_count": null,
   "id": "1d94bc86-00b3-40f8-aaf0-64d44295a835",
   "metadata": {},
   "outputs": [],
   "source": []
  },
  {
   "cell_type": "code",
   "execution_count": null,
   "id": "d56f5395-9b19-4744-85e0-735b30492a31",
   "metadata": {},
   "outputs": [],
   "source": []
  }
 ],
 "metadata": {
  "kernelspec": {
   "display_name": "Python 3 (ipykernel)",
   "language": "python",
   "name": "python3"
  },
  "language_info": {
   "codemirror_mode": {
    "name": "ipython",
    "version": 3
   },
   "file_extension": ".py",
   "mimetype": "text/x-python",
   "name": "python",
   "nbconvert_exporter": "python",
   "pygments_lexer": "ipython3",
   "version": "3.9.0"
  }
 },
 "nbformat": 4,
 "nbformat_minor": 5
}
